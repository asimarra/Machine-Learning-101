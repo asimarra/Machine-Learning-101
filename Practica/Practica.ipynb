{
 "cells": [
  {
   "cell_type": "markdown",
   "id": "6f3ededd-dc1e-45bf-b634-1a7fdfcd93a7",
   "metadata": {},
   "source": [
    "## Solución Practica\n",
    "\n",
    "#### Objetivo: Predecir el precio del airbnb a partir del dataset proporcionado."
   ]
  },
  {
   "cell_type": "code",
   "execution_count": null,
   "id": "6675062d-4d48-47c6-bbd3-8a4bf41c588c",
   "metadata": {},
   "outputs": [],
   "source": [
    "import sys  \n",
    "sys.path.insert(1, \"C:/Users/ASUS/Documents/GitHub/Machine-Learning-101\")"
   ]
  },
  {
   "cell_type": "code",
   "execution_count": null,
   "id": "9e322b77-8627-4345-9285-198d9e5dffc7",
   "metadata": {},
   "outputs": [],
   "source": [
    "from utils import plot_decision_boundary, poly_linear_regression, CM_BRIGHT\n",
    "\n",
    "import numpy as np\n",
    "import pandas as pd\n",
    "\n",
    "import matplotlib.pyplot as plt\n",
    "%matplotlib inline "
   ]
  },
  {
   "cell_type": "markdown",
   "id": "a959da74-eb78-41e3-9978-8fb2e40b9bc7",
   "metadata": {},
   "source": [
    "## 1. Carga de datos y división train/test"
   ]
  },
  {
   "cell_type": "code",
   "execution_count": null,
   "id": "89b8b9fa-dfe6-4338-968d-34566ea02136",
   "metadata": {},
   "outputs": [],
   "source": [
    "from sklearn.model_selection import train_test_split\n",
    "\n",
    "airbnb_data = pd.read_csv(\"./airbnb-listings-extract.csv\", delimiter=\";\")\n",
    "train, test = train_test_split(airbnb_data, test_size=0.3, shuffle=True, random_state=0)\n",
    "\n",
    "print(f'Dimensiones del dataset de training: {train.shape}')\n",
    "print(f'Dimensiones del dataset de test: {test.shape}')\n",
    "\n",
    "# Guardar datos por separado\n",
    "train.to_csv('./airbnb-listings_train.csv', sep=';', decimal='.', index=False)\n",
    "test.to_csv('./airbnb-listings_test.csv', sep=';', decimal='.', index=False)\n",
    "\n",
    "# Cargar el dataset de train\n",
    "airbnb_train_data = pd.read_csv('./airbnb-listings_train.csv', sep=';', decimal='.')"
   ]
  },
  {
   "cell_type": "code",
   "execution_count": null,
   "id": "653cd3c3-e150-456e-b5ba-a06f7de06fb5",
   "metadata": {},
   "outputs": [],
   "source": [
    "# Cargar el dataset de train\n",
    "airbnb_train_data = pd.read_csv('./airbnb-listings_train.csv', sep=';', decimal='.')"
   ]
  },
  {
   "cell_type": "markdown",
   "id": "70850792-8172-498d-b4a8-9c5df68e2666",
   "metadata": {},
   "source": [
    "## 2. Análisis exploratorio\n",
    "\n",
    "### 2.1 Revisar la estructura de los datos:"
   ]
  },
  {
   "cell_type": "code",
   "execution_count": null,
   "id": "cfb5ba8a-e604-4d3d-aba0-5e8e4c59308b",
   "metadata": {},
   "outputs": [],
   "source": [
    "# Revisar las primeras filas y su contenido\n",
    "train_head = airbnb_train_data.head()\n",
    "train_info = airbnb_train_data.info()\n",
    "train_describe = airbnb_train_data.describe(include='all')\n",
    "\n",
    "train_head\n",
    "# , train_info, train_describe"
   ]
  },
  {
   "cell_type": "markdown",
   "id": "ec3c7d37-59d1-44e2-a923-e7c3acf67ad4",
   "metadata": {},
   "source": [
    "### [RUN] Eliminar columnas que considero que no aportan información relevante para predecir el precio."
   ]
  },
  {
   "cell_type": "code",
   "execution_count": null,
   "id": "1ecbcf1d-b0f1-4aad-8c1f-5b661e9715dd",
   "metadata": {},
   "outputs": [],
   "source": [
    "def eliminar_columnas (dataset): \n",
    "    return dataset.drop(['Access','Calendar last Scraped','Calendar Updated','Cancellation Policy','Description','Experiences Offered','Features', 'Host Since',\n",
    "                         'First Review','Latitude','Longitude','Has Availability','Host About','Host ID','Host Location','Host Name','Host Neighbourhood','Host Picture Url','Host Response Rate',\n",
    "                         'Host Response Time','Host Thumbnail Url','Host URL','Host Verifications','House Rules','ID','Interaction','Jurisdiction Names','Last Review',\n",
    "                         'Last Scraped','License','Listing Url','Medium Url','Name','Neighborhood Overview','Neighbourhood Group Cleansed','Neighbourhood',\n",
    "                         'Notes','Picture Url', 'Scrape ID','Space','Summary','Thumbnail Url','Transit','XL Picture Url'], axis=1)\n",
    "\n",
    "print(f'Cantidad de columnas antes de borrar: {airbnb_train_data.shape[1]}') \n",
    "airbnb_train_data = eliminar_columnas(airbnb_train_data)\n",
    "print(f'Cantidad de columnas después de borrar: {airbnb_train_data.shape[1]}')"
   ]
  },
  {
   "cell_type": "code",
   "execution_count": null,
   "id": "b74610c4-fe40-4867-bab0-30caa1b1c1f9",
   "metadata": {},
   "outputs": [],
   "source": [
    "# Revisar las primeras filas y su contenido\n",
    "train_head = airbnb_train_data.head()\n",
    "train_info = airbnb_train_data.info()\n",
    "train_describe = airbnb_train_data.describe(include='all')\n",
    "\n",
    "train_head\n",
    "# , train_info, train_describe"
   ]
  },
  {
   "cell_type": "code",
   "execution_count": null,
   "id": "0cd7012a-e25f-4f90-ae7e-95cae4a5878d",
   "metadata": {},
   "outputs": [],
   "source": [
    "airbnb_train_data[['Host Listings Count', 'Host Total Listings Count', 'Calculated host listings count']]"
   ]
  },
  {
   "cell_type": "code",
   "execution_count": null,
   "id": "f5711f60-6c40-445b-b2fe-f3738237c447",
   "metadata": {},
   "outputs": [],
   "source": [
    "print(f\"Valores faltantes por columna: \\n {airbnb_train_data[['Host Listings Count', 'Host Total Listings Count', 'Calculated host listings count']].isnull().sum()}\")\n",
    "\n",
    "print(\"\\n\")\n",
    "\n",
    "correlations = airbnb_train_data[['Host Listings Count', 'Host Total Listings Count', 'Calculated host listings count', 'Price']].corr()\n",
    "print(\"Correlaciones con el precio:\")\n",
    "print(correlations['Price'])\n",
    "\n",
    "# Visualizar relación con el precio\n",
    "plt.figure(figsize=(15, 5))\n",
    "for i, columna in enumerate(['Host Listings Count', 'Host Total Listings Count', 'Calculated host listings count'], 1):\n",
    "    plt.subplot(1, 3, i)\n",
    "    plt.scatter(airbnb_train_data[columna], airbnb_train_data['Price'], alpha=0.5)\n",
    "    plt.title(f'Relación: {columna} vs Price')\n",
    "    plt.xlabel(columna)\n",
    "    plt.ylabel('Price')\n",
    "plt.tight_layout()\n",
    "plt.show()"
   ]
  },
  {
   "cell_type": "markdown",
   "id": "150cf35c-7d1c-44ef-81b5-b0962391622d",
   "metadata": {},
   "source": [
    "### Analizar Country y Country Code"
   ]
  },
  {
   "cell_type": "code",
   "execution_count": null,
   "id": "a50ac398-6f1d-4504-98ba-3b8ab862ab3a",
   "metadata": {},
   "outputs": [],
   "source": [
    "airbnb_train_data[\"Country Code\"].unique(), airbnb_train_data[\"Country\"].unique()"
   ]
  },
  {
   "cell_type": "markdown",
   "id": "7bc58afd-8af7-4095-bb99-6114f8892870",
   "metadata": {},
   "source": [
    "### [RUN] Eliminar columnas ronda 2"
   ]
  },
  {
   "cell_type": "code",
   "execution_count": null,
   "id": "26383b94-d2af-4aac-bc99-4787075418cb",
   "metadata": {},
   "outputs": [],
   "source": [
    "def eliminar_columnas_ronda_dos (dataset): \n",
    "    return dataset.drop(['Host Total Listings Count', 'Host Listings Count', 'Country Code'], axis=1)\n",
    "\n",
    "print(f'Cantidad de columnas antes de borrar: {airbnb_train_data.shape[1]}') \n",
    "airbnb_train_data = eliminar_columnas_ronda_dos(airbnb_train_data)\n",
    "print(f'Cantidad de columnas después de borrar: {airbnb_train_data.shape[1]}')"
   ]
  },
  {
   "cell_type": "markdown",
   "id": "62e1281b-17a9-45be-bd8b-f0b5771bc951",
   "metadata": {},
   "source": [
    "### Conclusiones\n",
    "\n",
    "* **ID, Listing Url, Scrape ID, Host ID, Host URL, Picture Url, Thumbnail Url, etc.**, son identificadores únicos o enlaces que no aportan información valiosa.\n",
    "* **Last Scraped, Name, Summary, Description, Experiences Offered, Neighborhood Overview, Notes, Street, etc.**, contienen texto descriptivo que probablemente no tenga un impacto significativo en este caso.\n",
    "* **First Review y Last Review**: contiene fechas de la primera y última reseña que no aportan valor significativo.\n",
    "* **Calendar Updated y Calendar last Scraped**: proveen información de cuándo se actualizó o descargó el calendario de disponibilidad y esto no es relevante para el calculo del precio.\n",
    "* **Latitud y Longitud:** Es redudante porque ya tenemos Geolocation.\n",
    "* **Availability 30, Availability 60, Availability 90, Availability 365**: considero que no son relevantes para calcular el precio. Estan mas enfocadas a proveer informacion sobre disponibilidad en diferentes intervalos de tiempo.\n",
    "* **Host Total Listings Count y Listings Count**: Tienen correlaciones similares con el precio y probablemente son redundantes comparada con Calculated Host Listings Count, pero está podria representar una versión derivada más precisa.\n",
    "* **Country Code:** Procedemos a eliminar esta columa porque es redundante con Country y además contiene registros con codigo \"It\" y \"IT\" así que nos ahorramos ese procesamiento a mayusculas. "
   ]
  },
  {
   "cell_type": "markdown",
   "id": "c551ffb6-0091-4b4e-a410-a3874ca7958c",
   "metadata": {},
   "source": [
    "### 2.2 Detectar valores faltantes y outliers\n",
    "\n",
    "### Valores faltantes"
   ]
  },
  {
   "cell_type": "code",
   "execution_count": null,
   "id": "5380edda-90ee-4340-a440-df84b3a8289c",
   "metadata": {},
   "outputs": [],
   "source": [
    "airbnb_train_data.isnull().sum()"
   ]
  },
  {
   "cell_type": "code",
   "execution_count": null,
   "id": "aa2a1812-88b5-41f2-a5d9-b9e70ab4ee1f",
   "metadata": {},
   "outputs": [],
   "source": [
    "def mostrar_porcentaje_valores_faltantes(dataset):\n",
    "    porcentaje_valores_faltantes = dataset.isnull().mean() * 100\n",
    "    print(\"Porcentaje de valores faltantes por columna:\")\n",
    "    print(porcentaje_valores_faltantes[porcentaje_valores_faltantes > 0].sort_values(ascending=False))\n",
    "\n",
    "mostrar_porcentaje_valores_faltantes(airbnb_train_data)"
   ]
  },
  {
   "cell_type": "markdown",
   "id": "a720be09-038f-4c97-92ba-c29758a70587",
   "metadata": {},
   "source": [
    "### [RUN] Se descartaran las columnas que tienen mas del 70% de valores faltantes:\n",
    "- Host Acceptance Rate (99.76%)\n",
    "- Square Feet (96.04%)\n",
    "- Monthly Price (75.82%)\n",
    "- Weekly Price (75.71%)"
   ]
  },
  {
   "cell_type": "code",
   "execution_count": null,
   "id": "7799911a-3bc7-4e38-9b16-8fcb473bdc58",
   "metadata": {},
   "outputs": [],
   "source": [
    "def eliminar_columnas_na (dataset): \n",
    "    return dataset.drop(['Host Acceptance Rate', 'Square Feet', 'Monthly Price', 'Weekly Price'], axis=1)\n",
    "\n",
    "print(f'Cantidad de columnas antes de borrar: {airbnb_train_data.shape[1]}')\n",
    "airbnb_train_data = eliminar_columnas_na(airbnb_train_data)\n",
    "print(f'Cantidad de columnas después de borrar: {airbnb_train_data.shape[1]}')\n",
    "\n",
    "mostrar_porcentaje_valores_faltantes(airbnb_train_data)"
   ]
  },
  {
   "cell_type": "markdown",
   "id": "b09f10a6-85e8-4dd4-a5da-b0cb85d2d348",
   "metadata": {},
   "source": [
    "## Imputación de valores"
   ]
  },
  {
   "cell_type": "markdown",
   "id": "295a6bf2-cd7f-4b0e-8999-4eeade40f18c",
   "metadata": {},
   "source": [
    "### [RUN] Imputare los valores nulos de tipo numerico con la mediana ya que no quiero que se vean afectado por los outliers."
   ]
  },
  {
   "cell_type": "code",
   "execution_count": null,
   "id": "cfe74a70-c11f-4edc-8b8d-7ff486aa0d7d",
   "metadata": {},
   "outputs": [],
   "source": [
    "airbnb_train_data[['Bathrooms', 'Beds', 'Bedrooms']].describe()"
   ]
  },
  {
   "cell_type": "code",
   "execution_count": null,
   "id": "b071962f-f740-4aa7-be55-d91cbc46befa",
   "metadata": {
    "scrolled": true
   },
   "outputs": [],
   "source": [
    "def obtener_columnas_numericas():\n",
    "    return airbnb_train_data.select_dtypes(include=['float64', 'int64']).columns\n",
    "\n",
    "for columna in obtener_columnas_numericas():\n",
    "    airbnb_train_data[columna] = airbnb_train_data[columna].fillna(airbnb_train_data[columna].median())\n",
    "\n",
    "mostrar_porcentaje_valores_faltantes(airbnb_train_data)"
   ]
  },
  {
   "cell_type": "code",
   "execution_count": null,
   "id": "15b470f9-d7dd-4738-9d03-dd8eb5682b54",
   "metadata": {},
   "outputs": [],
   "source": [
    "airbnb_train_data[['Security Deposit']].describe()"
   ]
  },
  {
   "cell_type": "markdown",
   "id": "ac9542d1-6359-456f-8d03-e155ab8fb573",
   "metadata": {},
   "source": [
    "### [RUN] Imputare los valores nulos de Security Deposit con 0"
   ]
  },
  {
   "cell_type": "code",
   "execution_count": null,
   "id": "2ff2e916-18d2-4f31-b86c-46b0efbeefb1",
   "metadata": {},
   "outputs": [],
   "source": [
    "airbnb_train_data['Security Deposit'] = airbnb_train_data['Security Deposit'].fillna(0)\n",
    "mostrar_porcentaje_valores_faltantes(airbnb_train_data)"
   ]
  },
  {
   "cell_type": "markdown",
   "id": "70cbfd42-396a-4646-89cc-526ad7660a94",
   "metadata": {},
   "source": [
    "#### Validar porcentaje de filas restantes con valores nulos"
   ]
  },
  {
   "cell_type": "code",
   "execution_count": null,
   "id": "c4899041-efb5-48db-aff7-3a308fec4249",
   "metadata": {},
   "outputs": [],
   "source": [
    "columnas_con_valores_nulos = [\n",
    "    'State', 'Zipcode', 'Market', \n",
    "    'City', 'Amenities', 'Country'\n",
    "]\n",
    "datase_filas_eliminadas = airbnb_train_data.dropna(subset=columnas_con_valores_nulos)\n",
    "total_filas_antes = airbnb_train_data.shape[0]\n",
    "total_filas_despues = datase_filas_eliminadas.shape[0]\n",
    "\n",
    "print(\n",
    "    f'Original: {total_filas_antes} // '\n",
    "    f'Modificado: {total_filas_despues}\\nDiferencia: {total_filas_antes - total_filas_despues}'\n",
    ")\n",
    "print(f'Variación: {((total_filas_antes - total_filas_despues)/total_filas_antes)*100:2f}%')"
   ]
  },
  {
   "cell_type": "markdown",
   "id": "1e3fde91-7d78-4831-adbe-90aecb421963",
   "metadata": {},
   "source": [
    "### [RUN] Imputare los valores nulos de las filas restantes con la moda para no perder el 5% de la información."
   ]
  },
  {
   "cell_type": "code",
   "execution_count": null,
   "id": "01e59b5e-ad9f-41ed-9e5b-c63aeb4690b4",
   "metadata": {},
   "outputs": [],
   "source": [
    "airbnb_train_data[columnas_con_valores_nulos].mode()"
   ]
  },
  {
   "cell_type": "code",
   "execution_count": null,
   "id": "4cfaff1f-c0ad-43b1-af5c-72f417175e83",
   "metadata": {},
   "outputs": [],
   "source": [
    "# Rellenar valores nulos con la moda\n",
    "for columna in columnas_con_valores_nulos:\n",
    "    moda = airbnb_train_data[columna].mode()[0]\n",
    "    airbnb_train_data[columna] = airbnb_train_data[columna].fillna(moda)\n",
    "\n",
    "# Verificar si quedan valores nulos\n",
    "print(\"Valores nulos después de la imputación:\")\n",
    "print(airbnb_train_data[columnas_con_valores_nulos].isnull().sum())"
   ]
  },
  {
   "cell_type": "code",
   "execution_count": null,
   "id": "55cbfb56-4ef2-485b-be48-536da7b032c7",
   "metadata": {},
   "outputs": [],
   "source": [
    "airbnb_train_data.info()"
   ]
  },
  {
   "cell_type": "code",
   "execution_count": null,
   "id": "874acd5b-3f59-4dad-ac86-3ed420e55401",
   "metadata": {},
   "outputs": [],
   "source": [
    "airbnb_train_data.isnull().sum()"
   ]
  },
  {
   "cell_type": "markdown",
   "id": "6be53363-8f61-4b5a-8247-9ec3f4197343",
   "metadata": {},
   "source": [
    "### Codificación de variables categóricas"
   ]
  },
  {
   "cell_type": "code",
   "execution_count": null,
   "id": "6983a61a-30b2-48ab-aa4e-23408c13cad4",
   "metadata": {},
   "outputs": [],
   "source": [
    "columnas_tipo_objeto = airbnb_train_data.select_dtypes(include='object').columns\n",
    "\n",
    "for columna in columnas_tipo_objeto:\n",
    "    print(f\"{columna}: {airbnb_train_data[columna].nunique() }\")\n",
    "\n",
    "# airbnb_train_data[\"Bed Type\"].unique(), airbnb_train_data[\"Room Type\"].unique(), airbnb_train_data[\"Property Type\"].unique()\n",
    "airbnb_train_data[\"Market\"].unique()"
   ]
  },
  {
   "cell_type": "code",
   "execution_count": null,
   "id": "11b933f9-661a-4623-9a27-3d2c6a3ba948",
   "metadata": {},
   "outputs": [],
   "source": [
    "airbnb_train_data['Street'].head(5), airbnb_train_data['Market'].head(5)"
   ]
  },
  {
   "cell_type": "markdown",
   "id": "88fc6838-2336-4442-9698-84b26377e9a3",
   "metadata": {},
   "source": [
    "### [RUN] Codificando variables"
   ]
  },
  {
   "cell_type": "code",
   "execution_count": null,
   "id": "0ba87a41-658d-4110-83d1-f3421da31758",
   "metadata": {},
   "outputs": [],
   "source": [
    "from sklearn.preprocessing import LabelEncoder\n",
    "\n",
    "def one_hot_encode(dataset, columnas):\n",
    "    \"\"\"Aplica One-Hot Encoding a las columnas seleccionadas.\"\"\"\n",
    "    return pd.get_dummies(dataset, columns=columnas, drop_first=True)\n",
    "\n",
    "def label_encode(dataset, columnas):\n",
    "    \"\"\"Aplica Label Encoding a las columnas seleccionadas.\"\"\"\n",
    "    for columna in columnas:\n",
    "        le = LabelEncoder()\n",
    "        dataset[columna] = le.fit_transform(dataset[columna])\n",
    "    return dataset\n",
    "\n",
    "def procesar_amenidades(dataset, columna):\n",
    "    \"\"\"Crea una nueva columna con el conteo de amenidades.\"\"\"\n",
    "    dataset['Amenities_Count'] = dataset[columna].apply(lambda x: len(x.split(',')))\n",
    "    return dataset\n",
    "\n",
    "airbnb_encoded = airbnb_train_data.copy()\n",
    "\n",
    "# Aplicar One-hot\n",
    "airbnb_encoded = one_hot_encode(airbnb_encoded, ['Room Type', 'Property Type', 'Bed Type', 'Market'])\n",
    "\n",
    "# Aplicar Label Encoding\n",
    "airbnb_encoded = label_encode(airbnb_encoded, ['Neighbourhood Cleansed', 'Zipcode'])\n",
    "\n",
    "# Aplicar conteo de características a Amenities\n",
    "airbnb_encoded = procesar_amenidades(airbnb_encoded, 'Amenities')"
   ]
  },
  {
   "cell_type": "code",
   "execution_count": null,
   "id": "9c1c5fb5-7bcf-4931-87df-634369f871aa",
   "metadata": {},
   "outputs": [],
   "source": [
    "def eliminar_columnas_codificadas(dataset, columnas_a_eliminar):\n",
    "    \"\"\"\n",
    "    Elimina las columnas originales que fueron codificadas o procesadas\n",
    "    con el fin de evitar duplicidad en el dataset.\n",
    "    \"\"\"\n",
    "    dataset.drop(columns=columnas_a_eliminar, inplace=False, errors='ignore')\n",
    "    return dataset\n",
    "\n",
    "print(f\"antes: {airbnb_encoded.shape[1]}\")\n",
    "\n",
    "# Eliminar columnas codificadas\n",
    "airbnb_encoded = eliminar_columnas_codificadas(airbnb_encoded, ['Room Type', 'Property Type', 'Bed Type', 'Market', \n",
    "                        'Neighbourhood Cleansed', 'Zipcode', 'Amenities'])\n",
    "\n",
    "# Verificar las columnas restantes\n",
    "print(f\"despues: {airbnb_encoded.shape[1]}\")"
   ]
  },
  {
   "cell_type": "markdown",
   "id": "6032a955-8e3d-4042-a201-551cfe12d710",
   "metadata": {},
   "source": [
    "## Conclusiones\n",
    "* Ninguna variable categórica parece tener un orden logico así que concluyo que todas son nominales.\n",
    "* Street y Geolocation: procedemos a descartarlas porque tienen un numero excesivo de categorías. No son utiles para predecir el precio ya que no se observan patrones repetibles.\n",
    "* Amenities tiene un número muy alto de valores unicos así que procederemos a crear una variable derivada para contar la cantidad de amenidades. Luego analizar si esto es util para predecir el precio.\n",
    "* Room Type, Property Type y Bed Type pueden tener un impacto alto en el precio."
   ]
  },
  {
   "cell_type": "markdown",
   "id": "0f58ec5b-0802-49db-a1c0-c042bd4d0157",
   "metadata": {},
   "source": [
    "### Identificar outliers en columnas numéricas"
   ]
  },
  {
   "cell_type": "code",
   "execution_count": null,
   "id": "c1b56030-89de-46a3-ab2d-5b93a2ac9d49",
   "metadata": {},
   "outputs": [],
   "source": [
    "def grafica_frecuencia_por_columnas(activarBreak = True):\n",
    "    for columna in obtener_columnas_numericas():\n",
    "        plt.figure(figsize=(5, 3))  # Ajusta el tamaño de cada figura individual\n",
    "        airbnb_train_data[columna].plot.hist(alpha=0.5, bins=25, grid=True)\n",
    "        plt.xlabel(columna)\n",
    "        plt.ylabel(\"Frecuencia\")\n",
    "        plt.title(f\"Distribución de {columna}\")\n",
    "        plt.show()\n",
    "        \n",
    "        if activarBreak: \n",
    "            break\n",
    "\n",
    "grafica_frecuencia_por_columnas(activarBreak = True)"
   ]
  },
  {
   "cell_type": "code",
   "execution_count": null,
   "id": "d5a390b1-cf15-4846-8cc6-7b68d0091914",
   "metadata": {},
   "outputs": [],
   "source": [
    "# Cantidad de registros con 0 baños\n",
    "print(f\"0 Baños: {airbnb_train_data[(airbnb_train_data['Bathrooms'] == 0)].shape[0]}\")\n",
    "\n",
    "# Cantidad de registros con 0 Dormitorios\n",
    "print(f\"0 Dormitorios: {airbnb_train_data[(airbnb_train_data['Bedrooms'] == 0)].shape[0]}\")\n",
    "\n",
    "# Cantidad de registros con 0 Camas\n",
    "print(f\"0 Camas: {airbnb_train_data[(airbnb_train_data['Beds'] == 0)].shape[0]}\")\n",
    "\n",
    "# Cantidad de registros con 0 Precio\n",
    "print(f\"0 Precio: {airbnb_train_data[(airbnb_train_data['Price'] == 0)].shape[0]}\")\n",
    "\n",
    "filtro_0_dormitorios = airbnb_train_data[(airbnb_train_data['Bedrooms'] == 0)][['Bathrooms', 'Beds', 'City', 'Property Type', 'Price']]\n",
    "filtro_ordenado = filtro_0_dormitorios.sort_values(by='Bathrooms', ascending=True)\n",
    "filtro_ordenado"
   ]
  },
  {
   "cell_type": "code",
   "execution_count": null,
   "id": "e8027c97-96ed-4330-bc69-4107418ee004",
   "metadata": {},
   "outputs": [],
   "source": [
    "# print(airbnb_train_data['Minimum Nights'].describe())\n",
    "# print(airbnb_train_data['Maximum Nights'].describe())\n",
    "\n",
    "# print(airbnb_train_data[airbnb_train_data['Minimum Nights'] > 30][['Minimum Nights']].unique())\n",
    "# airbnb_train_data['Minimum Nights'].unique()\n",
    "\n",
    "# valores_frecuencia_ordenados = airbnb_train_data['Minimum Nights'].value_counts().sort_index()\n",
    "# valores_frecuencia_ordenados\n",
    "\n",
    "percentil_99_min = airbnb_train_data['Minimum Nights'].quantile(0.99)\n",
    "print(\"Percentil 99 para Minimum Nights:\", percentil_99_min)\n",
    "\n",
    "percentil_99_max = airbnb_train_data['Maximum Nights'].quantile(0.99)\n",
    "print(\"Percentil 99 para Maximum Nights:\", percentil_99_max)\n",
    "\n",
    "print(f\"Outliers en Minimum Nights: {airbnb_train_data[airbnb_train_data['Minimum Nights'] > 30].shape[0]}\")\n",
    "print(f\"Outliers en Maximum Nights: {airbnb_train_data[airbnb_train_data['Maximum Nights'] > 1130].shape[0]}\")"
   ]
  },
  {
   "cell_type": "code",
   "execution_count": null,
   "id": "72f891da-6db4-46cb-b0d3-911d3372e459",
   "metadata": {},
   "outputs": [],
   "source": [
    "def grafico_minimo_maximo_noches():\n",
    "    plt.figure(figsize=(10, 5))\n",
    "\n",
    "    plt.subplot(1, 2, 1)\n",
    "    airbnb_train_data['Minimum Nights'].plot.hist(bins=30, alpha=0.7)\n",
    "    plt.title(\"Minimum Nights (Límite en 30)\")\n",
    "    \n",
    "    plt.subplot(1, 2, 2)\n",
    "    airbnb_train_data['Maximum Nights'].plot.hist(bins=30, alpha=0.7)\n",
    "    plt.title(\"Maximum Nights (Límite en 1130)\")\n",
    "    \n",
    "    plt.tight_layout()\n",
    "    plt.show()\n",
    "\n",
    "grafico_minimo_maximo_noches()"
   ]
  },
  {
   "cell_type": "markdown",
   "id": "c80ddf5e-78ef-452f-bf3e-6172bbbef419",
   "metadata": {},
   "source": [
    "### [RUN] Ajustar minimo y maximo de noches con los maximos para evitar perder información"
   ]
  },
  {
   "cell_type": "code",
   "execution_count": null,
   "id": "d1b47f62-3f5b-485b-9a4b-f2f7273b2a8a",
   "metadata": {},
   "outputs": [],
   "source": [
    "airbnb_train_data['Minimum Nights'] = airbnb_train_data['Minimum Nights'].clip(upper=30)\n",
    "airbnb_train_data['Maximum Nights'] = airbnb_train_data['Maximum Nights'].clip(upper=1130)\n",
    "\n",
    "print(f\"Minimum: {airbnb_train_data['Minimum Nights'].max()}\")\n",
    "print(f\"Maximum: {airbnb_train_data['Maximum Nights'].max()}\")\n",
    "\n",
    "grafico_minimo_maximo_noches()"
   ]
  },
  {
   "cell_type": "markdown",
   "id": "cc261391-9920-4831-bf99-a9ca1f1eaf10",
   "metadata": {},
   "source": [
    "### [RUN] Eliminar registros con 0 baño"
   ]
  },
  {
   "cell_type": "code",
   "execution_count": null,
   "id": "a097f53a-9a67-4dc0-87ab-c97196756c08",
   "metadata": {},
   "outputs": [],
   "source": [
    "airbnb_train_data = airbnb_train_data[airbnb_train_data['Bathrooms'] != 0]\n",
    "\n",
    "# Cantidad de registros con 0 baños\n",
    "print(f\"0 Baños: {airbnb_train_data[(airbnb_train_data['Bathrooms'] == 0)].shape[0]}\")"
   ]
  },
  {
   "cell_type": "markdown",
   "id": "98aee21e-db72-43da-a0c4-ced389b36b53",
   "metadata": {},
   "source": [
    "### Conclusiones\n",
    "\n",
    "* Se descartaron los 44 registros que tienen 0 baño.\n",
    "* Se mantienen los 707 registros que tienen 0 Dormitorio porque pueden ser apartaestudios.\n",
    "* La gran mayoría de los valores de Minimum Nights están concentrados en valores pequeños con un percentil 99 de 28 noches. Así que se ajustaron los registros con más de 30 días para que tomen el valor maximo y evitar perder información. En este  caso, cualquier valor superior a 30 será reemplazado por 30.\n",
    "* Se hizo algo similar con el Maximum Nights. Cualquier valor superior a 1.130 será reemplazado por 1130."
   ]
  },
  {
   "cell_type": "markdown",
   "id": "89a6197c-d18c-4110-a2d7-8693151914e9",
   "metadata": {},
   "source": [
    "### **[RUN] Eliminar los outliers de algunas variables numéricas"
   ]
  },
  {
   "cell_type": "code",
   "execution_count": null,
   "id": "2526ecb9-345e-498c-a536-b6c8049580e6",
   "metadata": {},
   "outputs": [],
   "source": [
    "# def eliminar_outliers(data, columnas_numericas):\n",
    "#     \"\"\"\n",
    "#     Elimina los outliers de las columnas numéricas en un DataFrame utilizando el rango intercuartílico (IQR).\n",
    "#     \"\"\"\n",
    "#     coeficiente_multiplicador = 1.5\n",
    "    \n",
    "#     for col in columnas_numericas:\n",
    "#         q1 = data[col].quantile(0.25)  # Primer cuartil (25%)\n",
    "#         q3 = data[col].quantile(0.75)  # Tercer cuartil (75%)\n",
    "#         iqr = q3 - q1  # Rango intercuartílico\n",
    "        \n",
    "#         # Limites para detectar outliers\n",
    "#         limite_inferior = q1 - coeficiente_multiplicador * iqr\n",
    "#         limite_superior = q3 + coeficiente_multiplicador * iqr\n",
    "        \n",
    "#         # Filtrar los datos dentro de los límites\n",
    "#         data = data[(data[col] >= limite_inferior) & (data[col] <= limite_superior)]\n",
    "#     return data\n",
    "\n",
    "# columnas_para_remover_outliers=['Security Deposit', 'Cleaning Fee', 'Guests Included', 'Extra People',\n",
    "#                                 'Minimum Nights', 'Maximum Nights', 'Number of Reviews']\n",
    "# airbnb_train_data = eliminar_outliers(airbnb_train_data, columnas_para_remover_outliers)\n",
    "# grafica_frecuencia_por_columnas(activarBreak = False)"
   ]
  },
  {
   "cell_type": "code",
   "execution_count": null,
   "id": "1c412b35-4ad0-48b5-99d6-ed85c721db69",
   "metadata": {},
   "outputs": [],
   "source": [
    "airbnb_train_data.shape"
   ]
  },
  {
   "cell_type": "markdown",
   "id": "d02843a2-6045-4323-a754-bbfed9a4472a",
   "metadata": {},
   "source": [
    "#### Relación entre `Price` y las columnas numéricas"
   ]
  },
  {
   "cell_type": "code",
   "execution_count": null,
   "id": "e38b4d1e-6d0f-4189-b0e5-4ab4158eb425",
   "metadata": {},
   "outputs": [],
   "source": [
    "plt.figure(figsize=(15, 5))\n",
    "for i, columna in enumerate(obtener_columnas_numericas(), 1):\n",
    "    if columna != 'Price':\n",
    "        airbnb_train_data.plot(kind = 'scatter',x=columna,y = 'Price')\n",
    "        plt.title(f\"Relación: {columna} vs Price\")\n",
    "        plt.xlabel(columna)\n",
    "        plt.ylabel('  ($)')\n",
    "        break\n",
    "plt.show()"
   ]
  },
  {
   "cell_type": "markdown",
   "id": "6095294f-fbc2-45a3-90b1-c01ec51532f1",
   "metadata": {},
   "source": [
    "### Conclusiones\n",
    "* Existe una relación positiva entre Accommodates y Price, alojamientos con mayor capacidad tienden a ser más caros.\n",
    "    * En alojamientos con mayor capacidad (más de 8 personas) el precio tiende a ser consistentemente más alto.\n",
    "* Tambien hay una relación positiva entre Bathrooms y Price, más baños generalmente estan asociados con alojamientos más caros.\n",
    "    * El precio generalmente aumenta con el número de baños pero hay menos alojamientos con más de 3 baños.\n",
    "    * Algunos alojamientos con 2-3 baños tienen precios muy altos, lo mas probablemente es que sea debido a factores externos.\n",
    "* Los precios más altos están asociados con alojamientos que tienen puntuaciones de limpieza de 9 o 10.\n",
    "* No veo relación fuerte de los campos Review Scores Communication y Review Scores Checkin con el precio."
   ]
  },
  {
   "cell_type": "markdown",
   "id": "a3b8c2a2-05ba-4ed1-ae6f-434f3cef4a60",
   "metadata": {},
   "source": [
    "### [RUN] Eliminar columnas redudantes ronda 3"
   ]
  },
  {
   "cell_type": "code",
   "execution_count": null,
   "id": "43322f0b-596d-4c58-8448-cbe7d7b1c0c3",
   "metadata": {},
   "outputs": [],
   "source": [
    "def eliminar_columnas_ronda_tres (dataset): \n",
    "    return dataset.drop(['Review Scores Communication', 'Review Scores Checkin', 'Availability 30', 'Availability 60', 'Availability 90'], axis=1)\n",
    "\n",
    "print(f'Cantidad de registros: {airbnb_train_data.shape[0]}') \n",
    "print(f'Cantidad de columnas antes de borrar: {airbnb_train_data.shape[1]}') \n",
    "airbnb_train_data = eliminar_columnas_ronda_tres(airbnb_train_data)\n",
    "print(f'Cantidad de columnas después de borrar: {airbnb_train_data.shape[1]}')"
   ]
  },
  {
   "cell_type": "code",
   "execution_count": null,
   "id": "46bd0c37-54a9-4872-bd14-0911fc192fbf",
   "metadata": {},
   "outputs": [],
   "source": [
    "grafica_frecuencia_por_columnas(activarBreak = True)"
   ]
  },
  {
   "cell_type": "code",
   "execution_count": null,
   "id": "94a6f70c-0e34-405d-8936-09a6a51f7156",
   "metadata": {},
   "outputs": [],
   "source": [
    "# airbnb_train_data.corr() # matriz de correlación\n",
    "numerical_data = airbnb_train_data.select_dtypes(include=['float64', 'int64'])\n",
    "\n",
    "# Calcular la matriz de correlación\n",
    "numerical_data.corr()"
   ]
  },
  {
   "cell_type": "code",
   "execution_count": null,
   "id": "7af56cb8-94a4-4396-839a-99dc38e77fd8",
   "metadata": {},
   "outputs": [],
   "source": [
    "import seaborn as sns\n",
    "\n",
    "numerical_data = airbnb_train_data.select_dtypes(include=['float64', 'int64'])\n",
    "\n",
    "# Compute the correlation matrix\n",
    "corr = np.abs(numerical_data.drop(['Price'], axis=1).corr())\n",
    "\n",
    "# Generate a mask for the upper triangle\n",
    "mask = np.zeros_like(corr, dtype=bool)\n",
    "mask[np.triu_indices_from(mask)] = True\n",
    "\n",
    "# Set up the matplotlib figure\n",
    "f, ax = plt.subplots(figsize=(6, 5))\n",
    "\n",
    "# Draw the heatmap with the mask and correct aspect ratio\n",
    "sns.heatmap(corr, mask=mask,vmin = 0.0, vmax=1.0, center=0.5,\n",
    "            linewidths=.1, cmap=\"YlGnBu\", cbar_kws={\"shrink\": .8})\n",
    "\n",
    "plt.show()"
   ]
  },
  {
   "cell_type": "markdown",
   "id": "b390107d-407b-483c-bb41-f31ca3473c53",
   "metadata": {},
   "source": [
    "# 3. Preprocesamiento:"
   ]
  },
  {
   "cell_type": "code",
   "execution_count": null,
   "id": "dd73f31b-7f7e-44fa-b4e5-9128446bab9a",
   "metadata": {},
   "outputs": [],
   "source": []
  },
  {
   "cell_type": "markdown",
   "id": "81a4e996-849b-48fd-aef3-cb33f51487c4",
   "metadata": {},
   "source": [
    "# 4. Modelado, cross-validation y estudio de resultados en train y test"
   ]
  },
  {
   "cell_type": "code",
   "execution_count": null,
   "id": "fea831d4-d891-4712-a487-f7e9e91a68a4",
   "metadata": {},
   "outputs": [],
   "source": []
  }
 ],
 "metadata": {
  "kernelspec": {
   "display_name": "Python 3 (ipykernel)",
   "language": "python",
   "name": "python3"
  },
  "language_info": {
   "codemirror_mode": {
    "name": "ipython",
    "version": 3
   },
   "file_extension": ".py",
   "mimetype": "text/x-python",
   "name": "python",
   "nbconvert_exporter": "python",
   "pygments_lexer": "ipython3",
   "version": "3.12.7"
  }
 },
 "nbformat": 4,
 "nbformat_minor": 5
}
