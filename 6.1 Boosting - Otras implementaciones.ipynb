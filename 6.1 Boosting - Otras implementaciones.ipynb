{
 "cells": [
  {
   "cell_type": "markdown",
   "id": "14d67d81-d2fc-4d42-929e-913926c9d719",
   "metadata": {},
   "source": [
    "## XGBoost y LightGBM\n",
    "\n",
    "Ejemplo de otras implementaciones del algoritmo de Boosting\n",
    "\n",
    "\n",
    "[Docs para XGBoost](https://xgboost.readthedocs.io/en/stable/python/python_api.html#module-xgboost.sklearn)\n",
    "\n",
    "[Docs para LightGBM](https://lightgbm.readthedocs.io/en/latest/pythonapi/lightgbm.LGBMRegressor.html#lightgbm.LGBMRegressor)"
   ]
  },
  {
   "cell_type": "code",
   "execution_count": null,
   "id": "f7f4f64f-8ecf-4ce2-9c65-42c9d006620c",
   "metadata": {},
   "outputs": [],
   "source": [
    "import numpy as np\n",
    "import pandas as pd\n",
    "\n",
    "import matplotlib.pyplot as plt\n",
    "from matplotlib.colors import ListedColormap\n",
    "%matplotlib inline\n",
    "\n",
    "cm = plt.cm.RdBu\n",
    "cm_bright = ListedColormap(['#FF0000', '#0000FF'])\n",
    "\n",
    "import warnings\n",
    "warnings.filterwarnings('ignore')"
   ]
  },
  {
   "cell_type": "markdown",
   "id": "a2e5105c-8926-482e-a190-818dc17d4dc5",
   "metadata": {},
   "source": [
    "### Ejemplo en regresión"
   ]
  },
  {
   "cell_type": "code",
   "execution_count": null,
   "id": "15f54f3b-c7ae-4e9d-9c16-a58b143abab2",
   "metadata": {},
   "outputs": [],
   "source": [
    "from sklearn.model_selection import train_test_split\n",
    "\n",
    "# cargamos datos\n",
    "house_data = pd.read_csv(\"./data/kc_house_data.csv\") # cargamos fichero\n",
    "\n",
    "# Eliminamos las columnas id y date \n",
    "house_data = house_data.drop(['id','date'], axis=1)\n",
    "\n",
    "# convertir las variables en pies al cuadrado en metros al cuadrado \n",
    "feetFeatures = ['sqft_living','sqft_lot','sqft_above','sqft_basement','sqft_living15','sqft_lot15']\n",
    "house_data[feetFeatures] = house_data[feetFeatures].apply(lambda x: x * 0.3048 * 0.3048)\n",
    "\n",
    "# renombramos\n",
    "house_data.columns = ['price','bedrooms','bathrooms','sqm_living','sqm_lot','floors','waterfront','view','condition',\n",
    "                      'grade','sqm_above','sqm_basement','yr_built','yr_renovated','zip_code','lat','long',\n",
    "                      'sqm_living15','sqm_lot15']\n",
    "\n",
    "# añadimos las nuevas variables\n",
    "house_data['years']            = 2017 - house_data['yr_built']\n",
    "house_data['bedrooms_squared'] = house_data['bedrooms'].apply(lambda x: x**2)\n",
    "house_data['bed_bath_rooms']   = house_data['bedrooms']*house_data['bathrooms']\n",
    "house_data['log_sqm_living']   = house_data['sqm_living'].apply(lambda x: np.log(x))\n",
    "house_data['lat_plus_long']    = house_data['lat']*house_data['long']\n",
    "\n",
    "# convertimos el DataFrame al formato necesario para scikit-learn\n",
    "data = house_data.values\n",
    "\n",
    "y = data[:,0:1]     # nos quedamos con la 1ª columna, price\n",
    "X = data[:,1:]      # nos quedamos con el resto\n",
    "\n",
    "feature_names = house_data.columns[1:]\n",
    "\n",
    "# Dividimos los datos en entrenamiento y test (80 training, 20 test)\n",
    "X_train, X_test, y_train, y_test = train_test_split(X, y, test_size=.25, random_state = 2)\n",
    "\n",
    "print('Datos entrenamiento: ', X_train.shape)\n",
    "print('Datos test: ', X_test.shape)"
   ]
  },
  {
   "cell_type": "markdown",
   "id": "89776789-d4ab-4ac1-9784-fc1f292d22d0",
   "metadata": {},
   "source": [
    "### XGBoost"
   ]
  },
  {
   "cell_type": "code",
   "execution_count": null,
   "id": "8e077212-1ec0-479e-bd13-f69289d13315",
   "metadata": {},
   "outputs": [],
   "source": [
    "!pip install lightgbm\n",
    "\n",
    "# Si no funciona:\n",
    "# import sys\n",
    "# !{sys.executable} -m pip install lightgbm"
   ]
  },
  {
   "cell_type": "code",
   "execution_count": null,
   "id": "106a1312-c27f-4f7a-851d-0769bb98fa4e",
   "metadata": {},
   "outputs": [],
   "source": [
    "!pip install xgboost\n",
    "\n",
    "# Si no funciona:\n",
    "# import sys\n",
    "# !{sys.executable} -m pip install xgboost"
   ]
  },
  {
   "cell_type": "code",
   "execution_count": null,
   "id": "86062eed-a17f-46c4-8dcc-0c554d924114",
   "metadata": {},
   "outputs": [],
   "source": [
    "### XGBOOST\n",
    "from xgboost import XGBRegressor\n",
    "\n",
    "bt = XGBRegressor(random_state=0, max_depth=3,learning_rate=0.01, n_estimators=500)\n",
    "bt.fit(X_train,y_train)\n",
    "\n",
    "print(\"Train: \",bt.score(X_train,y_train))\n",
    "print(\"Test: \",bt.score(X_test,y_test))"
   ]
  },
  {
   "cell_type": "markdown",
   "id": "8a6876ea-3e06-4b1e-a5ec-086e29ae6a99",
   "metadata": {},
   "source": [
    "### LightGBM"
   ]
  },
  {
   "cell_type": "code",
   "execution_count": null,
   "id": "31c0a312-aeac-4258-b0e9-f511e1ee050c",
   "metadata": {},
   "outputs": [],
   "source": [
    "### LightGBM\n",
    "from lightgbm import LGBMRegressor\n",
    "\n",
    "bt = LGBMRegressor(random_state=0, max_depth=3,learning_rate=0.01, n_estimators=500)\n",
    "bt.fit(X_train,y_train)\n",
    "\n",
    "print(\"Train: \",bt.score(X_train,y_train))\n",
    "print(\"Test: \",bt.score(X_test,y_test))"
   ]
  },
  {
   "cell_type": "code",
   "execution_count": null,
   "id": "ca4e257d-f5fb-4d53-a274-b466d29f004c",
   "metadata": {},
   "outputs": [],
   "source": []
  }
 ],
 "metadata": {
  "kernelspec": {
   "display_name": "Python 3 (ipykernel)",
   "language": "python",
   "name": "python3"
  },
  "language_info": {
   "codemirror_mode": {
    "name": "ipython",
    "version": 3
   },
   "file_extension": ".py",
   "mimetype": "text/x-python",
   "name": "python",
   "nbconvert_exporter": "python",
   "pygments_lexer": "ipython3",
   "version": "3.12.7"
  }
 },
 "nbformat": 4,
 "nbformat_minor": 5
}
