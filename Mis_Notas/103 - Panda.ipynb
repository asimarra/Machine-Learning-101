{
 "cells": [
  {
   "cell_type": "markdown",
   "id": "a909ef70-70dc-4ddd-afb7-522b30200c3c",
   "metadata": {},
   "source": [
    "### Estructuras de datos en Pandas \n",
    "\n",
    "\n",
    "**SERIES:** Almacena cualquier tipo de dato.\n",
    "\n",
    "**DATAFRAME:** Estructura bidimensional con columnas que pueden ser también de cualquier tipo. "
   ]
  },
  {
   "cell_type": "code",
   "execution_count": 17,
   "id": "ad234600-a51d-4b2d-9123-8a41b9272dcc",
   "metadata": {},
   "outputs": [],
   "source": [
    "import pandas as pd"
   ]
  },
  {
   "cell_type": "markdown",
   "id": "37c96b8c-5b6a-44fa-9276-8172f9ead2da",
   "metadata": {},
   "source": [
    "##### SERIES"
   ]
  },
  {
   "cell_type": "code",
   "execution_count": 36,
   "id": "89f5a267-6680-4af3-b5f8-46185a28d35e",
   "metadata": {
    "editable": true,
    "slideshow": {
     "slide_type": ""
    },
    "tags": []
   },
   "outputs": [
    {
     "name": "stdout",
     "output_type": "stream",
     "text": [
      "0      1\n",
      "1      4\n",
      "2      9\n",
      "3      2\n",
      "4      6\n",
      "5     10\n",
      "6    200\n",
      "dtype: int64\n"
     ]
    }
   ],
   "source": [
    "naranjas = pd.Series([1, 4, 9, 2, 6, 10, 200]) # serie apartir de un array\n",
    "print(naranjas)"
   ]
  },
  {
   "cell_type": "code",
   "execution_count": 44,
   "id": "c8ed05f7-87ba-4555-923f-e491454b38c8",
   "metadata": {},
   "outputs": [
    {
     "name": "stdout",
     "output_type": "stream",
     "text": [
      "0        rojo\n",
      "1        azul\n",
      "2    amarillo\n",
      "3       verde\n",
      "dtype: object\n"
     ]
    }
   ],
   "source": [
    "colores = pd.Series(['rojo', 'azul', 'amarillo', 'verde']) # serie apartir de una lista\n",
    "print(colores)"
   ]
  },
  {
   "cell_type": "code",
   "execution_count": 48,
   "id": "de461917-7280-46d4-8adf-7e4fb35b56e4",
   "metadata": {},
   "outputs": [
    {
     "name": "stdout",
     "output_type": "stream",
     "text": [
      "matematicas    8.2\n",
      "ingles         7.0\n",
      "arte           8.0\n",
      "dtype: float64\n"
     ]
    }
   ],
   "source": [
    "calificaciones = pd.Series({'matematicas': 8.2, 'ingles': 7, 'arte': 8}) # serie apartir de un diccionario\n",
    "print(calificaciones)"
   ]
  },
  {
   "cell_type": "markdown",
   "id": "6fd26382-e837-4f03-9cb3-6570a55b59ba",
   "metadata": {},
   "source": [
    "#### Propiedades fundamentales dentro de una serie\n",
    "\n",
    "- .size: devuelve el número de elementos de la serie\n",
    "- .index: devuelve una lista con los nombres de las filas\n",
    "- .dtype: devuelve el tipo de datos de los elementos de la serie"
   ]
  },
  {
   "cell_type": "code",
   "execution_count": 71,
   "id": "68e2ed4c-5414-4de5-b830-cabbbe0df905",
   "metadata": {},
   "outputs": [
    {
     "name": "stdout",
     "output_type": "stream",
     "text": [
      "3\n",
      "Index(['matematicas', 'ingles', 'arte'], dtype='object')\n",
      "float64\n"
     ]
    }
   ],
   "source": [
    "print(calificaciones.size)\n",
    "print(calificaciones.index)\n",
    "print(calificaciones.dtype)"
   ]
  },
  {
   "cell_type": "code",
   "execution_count": null,
   "id": "47f3d11b-cbd5-48e0-9565-7a99260bc1dd",
   "metadata": {},
   "outputs": [],
   "source": []
  },
  {
   "cell_type": "code",
   "execution_count": null,
   "id": "6c5337b7-d847-4045-8092-6c044fca970d",
   "metadata": {},
   "outputs": [],
   "source": []
  },
  {
   "cell_type": "markdown",
   "id": "ce86b339-66ab-4a85-8817-3ded22fed191",
   "metadata": {},
   "source": [
    "##### DATAFRAME"
   ]
  },
  {
   "cell_type": "code",
   "execution_count": null,
   "id": "bdc8e11f-d429-4b89-9cb1-e515bf8cd465",
   "metadata": {},
   "outputs": [],
   "source": []
  }
 ],
 "metadata": {
  "kernelspec": {
   "display_name": "Python 3 (ipykernel)",
   "language": "python",
   "name": "python3"
  },
  "language_info": {
   "codemirror_mode": {
    "name": "ipython",
    "version": 3
   },
   "file_extension": ".py",
   "mimetype": "text/x-python",
   "name": "python",
   "nbconvert_exporter": "python",
   "pygments_lexer": "ipython3",
   "version": "3.12.7"
  }
 },
 "nbformat": 4,
 "nbformat_minor": 5
}
